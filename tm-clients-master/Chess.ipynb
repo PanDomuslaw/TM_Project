{
 "cells": [
  {
   "cell_type": "code",
   "execution_count": null,
   "metadata": {
    "collapsed": true
   },
   "outputs": [],
   "source": [
    "import chess\n",
    "import chess.svg\n",
    "import jupyter\n",
    "\n",
    "board = chess.Board()\n",
    "\n",
    "print(board.legal_moves)\n",
    "\n",
    "print(board)\n",
    "\n",
    "board.push_san(\"e4\")\n",
    "print(board)\n",
    "\n",
    "\n",
    "chess.svg.piece(chess.Piece.from_symbol(\"R\"))\n",
    "\n",
    "chess.svg.board(board=board)"
   ]
  }
 ],
 "metadata": {
  "kernelspec": {
   "display_name": "Python 2",
   "language": "python",
   "name": "python2"
  },
  "language_info": {
   "codemirror_mode": {
    "name": "ipython",
    "version": 2
   },
   "file_extension": ".py",
   "mimetype": "text/x-python",
   "name": "python",
   "nbconvert_exporter": "python",
   "pygments_lexer": "ipython2",
   "version": "2.7.6"
  }
 },
 "nbformat": 4,
 "nbformat_minor": 0
}
